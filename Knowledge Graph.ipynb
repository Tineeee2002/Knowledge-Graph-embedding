{
 "cells": [
  {
   "cell_type": "markdown",
   "id": "09514f57",
   "metadata": {},
   "source": [
    "# Nguyễn Nhật Tiến - MSSV: 20120209"
   ]
  },
  {
   "cell_type": "markdown",
   "metadata": {},
   "source": [
    "Original assignment taken from course on [Network Science](https://leonidzhukov.net/hse/2023/networkscience/), Department of Data Analysis and Artificial Intelligence, School of Computer Science, National Research University Higher School of Economics\n",
    "\n",
    "Instructors: *Prof. Leonid Zhukov, Ilya Makarov*"
   ]
  },
  {
   "cell_type": "markdown",
   "metadata": {},
   "source": [
    "Adapted for course on Graph Mining @ FIT-HCMUS by *Le Nhut Nam (lenam.fithcmus@gmail.com)*"
   ]
  },
  {
   "cell_type": "markdown",
   "id": "54afd6cf",
   "metadata": {},
   "source": [
    "# Assignment — Knowledge graph embedding"
   ]
  },
  {
   "cell_type": "code",
   "execution_count": 1,
   "id": "88c85b0e",
   "metadata": {},
   "outputs": [],
   "source": [
    "import numpy as np\n",
    "import pandas as pd\n",
    "from zlib import adler32\n",
    "from tqdm.notebook import tqdm, trange\n",
    "pd.options.display.max_colwidth = 100\n",
    "import requests"
   ]
  },
  {
   "cell_type": "markdown",
   "id": "1e432975",
   "metadata": {},
   "source": [
    "### Task 1. Freebase dataset (0.0 points)"
   ]
  },
  {
   "cell_type": "markdown",
   "id": "f6478877",
   "metadata": {},
   "source": [
    "In this assignment we will see how to use the [TorchKGE](https://github.com/torchkge-team/torchkge) library for building knowledge graphs and its embeddings. To begin with we are going to need a knowledge graph, so let us load a standard knowledge graph dataset called _Freebase-15k-237_."
   ]
  },
  {
   "cell_type": "code",
   "execution_count": 2,
   "id": "facb26f6",
   "metadata": {},
   "outputs": [],
   "source": [
    "df = pd.read_csv(\n",
    "    \"https://raw.githubusercontent.com/netspractice/network-science/main/datasets/freebase-237-merged-and-remapped.csv.gz\", \n",
    "    names=['h', 'r', 't'])"
   ]
  },
  {
   "cell_type": "code",
   "execution_count": 3,
   "id": "1d9db44d",
   "metadata": {},
   "outputs": [
    {
     "data": {
      "text/html": [
       "<div>\n",
       "<style scoped>\n",
       "    .dataframe tbody tr th:only-of-type {\n",
       "        vertical-align: middle;\n",
       "    }\n",
       "\n",
       "    .dataframe tbody tr th {\n",
       "        vertical-align: top;\n",
       "    }\n",
       "\n",
       "    .dataframe thead th {\n",
       "        text-align: right;\n",
       "    }\n",
       "</style>\n",
       "<table border=\"1\" class=\"dataframe\">\n",
       "  <thead>\n",
       "    <tr style=\"text-align: right;\">\n",
       "      <th></th>\n",
       "      <th>h</th>\n",
       "      <th>r</th>\n",
       "      <th>t</th>\n",
       "    </tr>\n",
       "  </thead>\n",
       "  <tbody>\n",
       "    <tr>\n",
       "      <th>0</th>\n",
       "      <td>queens college, city university of new york</td>\n",
       "      <td>/education/educational_institution/students_graduates./education/education/student</td>\n",
       "      <td>carol leifer</td>\n",
       "    </tr>\n",
       "    <tr>\n",
       "      <th>1103</th>\n",
       "      <td>sharon stone</td>\n",
       "      <td>/award/award_nominee/award_nominations./award/award_nomination/award_nominee</td>\n",
       "      <td>jacob vargas</td>\n",
       "    </tr>\n",
       "    <tr>\n",
       "      <th>2210</th>\n",
       "      <td>japan</td>\n",
       "      <td>/location/country/capital</td>\n",
       "      <td>tokyo</td>\n",
       "    </tr>\n",
       "    <tr>\n",
       "      <th>3329</th>\n",
       "      <td>syphilis</td>\n",
       "      <td>/medicine/disease/risk_factors</td>\n",
       "      <td>male</td>\n",
       "    </tr>\n",
       "    <tr>\n",
       "      <th>4447</th>\n",
       "      <td>michael carlisle hall</td>\n",
       "      <td>/award/award_nominee/award_nominations./award/award_nomination/award_nominee</td>\n",
       "      <td>mena suvari</td>\n",
       "    </tr>\n",
       "    <tr>\n",
       "      <th>5555</th>\n",
       "      <td>alice in wonderland</td>\n",
       "      <td>/film/film/language</td>\n",
       "      <td>english language</td>\n",
       "    </tr>\n",
       "    <tr>\n",
       "      <th>6653</th>\n",
       "      <td>nauru</td>\n",
       "      <td>/location/country/official_language</td>\n",
       "      <td>english language</td>\n",
       "    </tr>\n",
       "    <tr>\n",
       "      <th>7743</th>\n",
       "      <td>ben harper</td>\n",
       "      <td>/people/person/spouse_s./people/marriage/type_of_union</td>\n",
       "      <td>marriage</td>\n",
       "    </tr>\n",
       "    <tr>\n",
       "      <th>8840</th>\n",
       "      <td>the perks of being a wallflower</td>\n",
       "      <td>/film/film/country</td>\n",
       "      <td>united states of america</td>\n",
       "    </tr>\n",
       "    <tr>\n",
       "      <th>9960</th>\n",
       "      <td>vice president</td>\n",
       "      <td>/business/job_title/people_with_this_title./business/employment_tenure/company</td>\n",
       "      <td>scripps howard broadcasting</td>\n",
       "    </tr>\n",
       "  </tbody>\n",
       "</table>\n",
       "</div>"
      ],
      "text/plain": [
       "                                                h  \\\n",
       "0     queens college, city university of new york   \n",
       "1103                                 sharon stone   \n",
       "2210                                        japan   \n",
       "3329                                     syphilis   \n",
       "4447                        michael carlisle hall   \n",
       "5555                          alice in wonderland   \n",
       "6653                                        nauru   \n",
       "7743                                   ben harper   \n",
       "8840              the perks of being a wallflower   \n",
       "9960                               vice president   \n",
       "\n",
       "                                                                                       r  \\\n",
       "0     /education/educational_institution/students_graduates./education/education/student   \n",
       "1103        /award/award_nominee/award_nominations./award/award_nomination/award_nominee   \n",
       "2210                                                           /location/country/capital   \n",
       "3329                                                      /medicine/disease/risk_factors   \n",
       "4447        /award/award_nominee/award_nominations./award/award_nomination/award_nominee   \n",
       "5555                                                                 /film/film/language   \n",
       "6653                                                 /location/country/official_language   \n",
       "7743                              /people/person/spouse_s./people/marriage/type_of_union   \n",
       "8840                                                                  /film/film/country   \n",
       "9960      /business/job_title/people_with_this_title./business/employment_tenure/company   \n",
       "\n",
       "                                t  \n",
       "0                    carol leifer  \n",
       "1103                 jacob vargas  \n",
       "2210                        tokyo  \n",
       "3329                         male  \n",
       "4447                  mena suvari  \n",
       "5555             english language  \n",
       "6653             english language  \n",
       "7743                     marriage  \n",
       "8840     united states of america  \n",
       "9960  scripps howard broadcasting  "
      ]
     },
     "execution_count": 3,
     "metadata": {},
     "output_type": "execute_result"
    }
   ],
   "source": [
    "df = df[~df.h.str.startswith('/') & ~df.t.str.startswith('/')]\n",
    "df[::1000].head(10)"
   ]
  },
  {
   "cell_type": "markdown",
   "id": "1c6aaa64",
   "metadata": {},
   "source": [
    "There is h — head (also subject), r — relation (also predicat, label), t — tail (also object). The shape of the dataset is"
   ]
  },
  {
   "cell_type": "code",
   "execution_count": 4,
   "id": "a6f31676",
   "metadata": {},
   "outputs": [
    {
     "data": {
      "text/plain": [
       "(282560, 3)"
      ]
     },
     "execution_count": 4,
     "metadata": {},
     "output_type": "execute_result"
    }
   ],
   "source": [
    "df.shape"
   ]
  },
  {
   "cell_type": "markdown",
   "id": "b3f19608",
   "metadata": {},
   "source": [
    "Let us check the number of unique entities and unique relations.\n",
    "\n",
    "Write a funtion `n_ent_rel` that takes a dataset and returns a number of unique entities and unique relations.\n"
   ]
  },
  {
   "cell_type": "code",
   "execution_count": 5,
   "id": "4d3ccfb7",
   "metadata": {
    "deletable": false,
    "nbgrader": {
     "cell_type": "code",
     "checksum": "e835a990ce88589b1e4baa4e213e5aed",
     "grade": false,
     "grade_id": "cell-a1c37b647b2bd8d4",
     "locked": false,
     "schema_version": 3,
     "solution": true,
     "task": false
    }
   },
   "outputs": [],
   "source": [
    "def n_ent_rel(df):\n",
    "    # YOUR CODE HERE\n",
    "    n_ent = len(set(list(df['h'])+list(df['t'])))\n",
    "    n_rel = len(df['r'].unique())\n",
    "    return n_ent, n_rel\n",
    "    raise NotImplementedError()"
   ]
  },
  {
   "cell_type": "code",
   "execution_count": 6,
   "id": "e185c183",
   "metadata": {
    "deletable": false,
    "editable": false,
    "nbgrader": {
     "cell_type": "code",
     "checksum": "4c38a2775794c5a0dabc449667e27643",
     "grade": true,
     "grade_id": "cell-e297130eb1b840de",
     "locked": true,
     "points": 0,
     "schema_version": 3,
     "solution": false,
     "task": false
    }
   },
   "outputs": [
    {
     "data": {
      "text/plain": [
       "(13506, 228)"
      ]
     },
     "execution_count": 6,
     "metadata": {},
     "output_type": "execute_result"
    }
   ],
   "source": [
    "n_ent, n_rel = n_ent_rel(df)\n",
    "assert adler32(str(n_ent + n_ent).encode()) == 50266365\n",
    "n_ent, n_rel"
   ]
  },
  {
   "cell_type": "markdown",
   "id": "cae14cdb",
   "metadata": {},
   "source": [
    "We can look at all facts about any entity via pandas API"
   ]
  },
  {
   "cell_type": "code",
   "execution_count": 7,
   "id": "71697bdd",
   "metadata": {},
   "outputs": [
    {
     "data": {
      "text/html": [
       "<div>\n",
       "<style scoped>\n",
       "    .dataframe tbody tr th:only-of-type {\n",
       "        vertical-align: middle;\n",
       "    }\n",
       "\n",
       "    .dataframe tbody tr th {\n",
       "        vertical-align: top;\n",
       "    }\n",
       "\n",
       "    .dataframe thead th {\n",
       "        text-align: right;\n",
       "    }\n",
       "</style>\n",
       "<table border=\"1\" class=\"dataframe\">\n",
       "  <thead>\n",
       "    <tr style=\"text-align: right;\">\n",
       "      <th></th>\n",
       "      <th>h</th>\n",
       "      <th>r</th>\n",
       "      <th>t</th>\n",
       "    </tr>\n",
       "  </thead>\n",
       "  <tbody>\n",
       "    <tr>\n",
       "      <th>4107</th>\n",
       "      <td>aleksandr pushkin</td>\n",
       "      <td>/people/person/profession</td>\n",
       "      <td>poet</td>\n",
       "    </tr>\n",
       "    <tr>\n",
       "      <th>14992</th>\n",
       "      <td>aleksandr pushkin</td>\n",
       "      <td>/influence/influence_node/influenced_by</td>\n",
       "      <td>johann wolfgang von goethe</td>\n",
       "    </tr>\n",
       "    <tr>\n",
       "      <th>19525</th>\n",
       "      <td>aleksandr pushkin</td>\n",
       "      <td>/people/person/nationality</td>\n",
       "      <td>russian empire</td>\n",
       "    </tr>\n",
       "    <tr>\n",
       "      <th>40237</th>\n",
       "      <td>aleksandr pushkin</td>\n",
       "      <td>/people/person/place_of_birth</td>\n",
       "      <td>moscow</td>\n",
       "    </tr>\n",
       "    <tr>\n",
       "      <th>47411</th>\n",
       "      <td>aleksandr pushkin</td>\n",
       "      <td>/influence/influence_node/influenced_by</td>\n",
       "      <td>william shakespeare</td>\n",
       "    </tr>\n",
       "  </tbody>\n",
       "</table>\n",
       "</div>"
      ],
      "text/plain": [
       "                       h                                        r  \\\n",
       "4107   aleksandr pushkin                /people/person/profession   \n",
       "14992  aleksandr pushkin  /influence/influence_node/influenced_by   \n",
       "19525  aleksandr pushkin               /people/person/nationality   \n",
       "40237  aleksandr pushkin            /people/person/place_of_birth   \n",
       "47411  aleksandr pushkin  /influence/influence_node/influenced_by   \n",
       "\n",
       "                                t  \n",
       "4107                         poet  \n",
       "14992  johann wolfgang von goethe  \n",
       "19525              russian empire  \n",
       "40237                      moscow  \n",
       "47411         william shakespeare  "
      ]
     },
     "execution_count": 7,
     "metadata": {},
     "output_type": "execute_result"
    }
   ],
   "source": [
    "df[df.h ==  'aleksandr pushkin'].head()"
   ]
  },
  {
   "cell_type": "code",
   "execution_count": 8,
   "id": "a9d4f918",
   "metadata": {},
   "outputs": [
    {
     "data": {
      "text/html": [
       "<div>\n",
       "<style scoped>\n",
       "    .dataframe tbody tr th:only-of-type {\n",
       "        vertical-align: middle;\n",
       "    }\n",
       "\n",
       "    .dataframe tbody tr th {\n",
       "        vertical-align: top;\n",
       "    }\n",
       "\n",
       "    .dataframe thead th {\n",
       "        text-align: right;\n",
       "    }\n",
       "</style>\n",
       "<table border=\"1\" class=\"dataframe\">\n",
       "  <thead>\n",
       "    <tr style=\"text-align: right;\">\n",
       "      <th></th>\n",
       "      <th>h</th>\n",
       "      <th>r</th>\n",
       "      <th>t</th>\n",
       "    </tr>\n",
       "  </thead>\n",
       "  <tbody>\n",
       "    <tr>\n",
       "      <th>145219</th>\n",
       "      <td>aleksandr pushkin</td>\n",
       "      <td>/influence/influence_node/peers./influence/peer_relationship/peers</td>\n",
       "      <td>nikolai gogol</td>\n",
       "    </tr>\n",
       "  </tbody>\n",
       "</table>\n",
       "</div>"
      ],
      "text/plain": [
       "                        h  \\\n",
       "145219  aleksandr pushkin   \n",
       "\n",
       "                                                                         r  \\\n",
       "145219  /influence/influence_node/peers./influence/peer_relationship/peers   \n",
       "\n",
       "                    t  \n",
       "145219  nikolai gogol  "
      ]
     },
     "execution_count": 8,
     "metadata": {},
     "output_type": "execute_result"
    }
   ],
   "source": [
    "df[(df.h ==  'aleksandr pushkin') & (df.t == 'nikolai gogol')]"
   ]
  },
  {
   "cell_type": "code",
   "execution_count": 9,
   "id": "7fb63604",
   "metadata": {},
   "outputs": [
    {
     "data": {
      "text/html": [
       "<div>\n",
       "<style scoped>\n",
       "    .dataframe tbody tr th:only-of-type {\n",
       "        vertical-align: middle;\n",
       "    }\n",
       "\n",
       "    .dataframe tbody tr th {\n",
       "        vertical-align: top;\n",
       "    }\n",
       "\n",
       "    .dataframe thead th {\n",
       "        text-align: right;\n",
       "    }\n",
       "</style>\n",
       "<table border=\"1\" class=\"dataframe\">\n",
       "  <thead>\n",
       "    <tr style=\"text-align: right;\">\n",
       "      <th></th>\n",
       "      <th>h</th>\n",
       "      <th>r</th>\n",
       "      <th>t</th>\n",
       "    </tr>\n",
       "  </thead>\n",
       "  <tbody>\n",
       "    <tr>\n",
       "      <th>86362</th>\n",
       "      <td>nikolai gogol</td>\n",
       "      <td>/influence/influence_node/peers./influence/peer_relationship/peers</td>\n",
       "      <td>aleksandr pushkin</td>\n",
       "    </tr>\n",
       "    <tr>\n",
       "      <th>269512</th>\n",
       "      <td>nikolai gogol</td>\n",
       "      <td>/influence/influence_node/influenced_by</td>\n",
       "      <td>aleksandr pushkin</td>\n",
       "    </tr>\n",
       "  </tbody>\n",
       "</table>\n",
       "</div>"
      ],
      "text/plain": [
       "                    h  \\\n",
       "86362   nikolai gogol   \n",
       "269512  nikolai gogol   \n",
       "\n",
       "                                                                         r  \\\n",
       "86362   /influence/influence_node/peers./influence/peer_relationship/peers   \n",
       "269512                             /influence/influence_node/influenced_by   \n",
       "\n",
       "                        t  \n",
       "86362   aleksandr pushkin  \n",
       "269512  aleksandr pushkin  "
      ]
     },
     "execution_count": 9,
     "metadata": {},
     "output_type": "execute_result"
    }
   ],
   "source": [
    "df[(df.h ==  'nikolai gogol') & (df.t == 'aleksandr pushkin')]"
   ]
  },
  {
   "cell_type": "markdown",
   "id": "dc9bdf03",
   "metadata": {},
   "source": [
    "Let us try to find some facts in this dataset. For example, what is Harrison Ford's nationality? (\"harrison ford\" in the dataset)\n",
    "\n",
    "Write a function `harrison_ford_nationality` that takes a dataset and returns the nationality.\n",
    "\n",
    "_Hint: use `pandas.Series.str.contains` method_"
   ]
  },
  {
   "cell_type": "code",
   "execution_count": 10,
   "id": "4e6bb702",
   "metadata": {
    "deletable": false,
    "nbgrader": {
     "cell_type": "code",
     "checksum": "4f23d23c2036f17a865ee09c5de46253",
     "grade": false,
     "grade_id": "cell-bf2eb40c10e9971d",
     "locked": false,
     "schema_version": 3,
     "solution": true,
     "task": false
    }
   },
   "outputs": [],
   "source": [
    "def harrison_ford_nationality(df):\n",
    "    # YOUR CODE HERE\n",
    "    df1 = df[df['h']==\"harrison ford\"]\n",
    "    nationality = df1[df1['r'].str.contains('nationality')]['t'].unique()[0]\n",
    "    return nationality\n",
    "    raise NotImplementedError()"
   ]
  },
  {
   "cell_type": "code",
   "execution_count": 11,
   "id": "4320c1f6",
   "metadata": {
    "deletable": false,
    "editable": false,
    "nbgrader": {
     "cell_type": "code",
     "checksum": "33ecca395ecdf947984d8d303239d6e8",
     "grade": true,
     "grade_id": "cell-e20681a97039cdf6",
     "locked": true,
     "points": 0,
     "schema_version": 3,
     "solution": false,
     "task": false
    }
   },
   "outputs": [
    {
     "data": {
      "text/plain": [
       "'united states of america'"
      ]
     },
     "execution_count": 11,
     "metadata": {},
     "output_type": "execute_result"
    }
   ],
   "source": [
    "assert adler32(harrison_ford_nationality(df).encode()) == 1948191013\n",
    "harrison_ford_nationality(df)"
   ]
  },
  {
   "cell_type": "markdown",
   "id": "473842ae",
   "metadata": {},
   "source": [
    "More tricky question: who are film directors of movies where Harrison Ford was?\n",
    "\n",
    "Write a function `made_films_with_harrison_ford` that returns a set of directors' names."
   ]
  },
  {
   "cell_type": "code",
   "execution_count": 12,
   "id": "fc32f9e5",
   "metadata": {},
   "outputs": [
    {
     "name": "stdout",
     "output_type": "stream",
     "text": [
      "apocalypse now\n",
      "what lies beneath\n",
      "air force one\n",
      "el imperio contra ataca\n",
      "working girl\n",
      "indiana jones and the kingdom of the crystal skull\n",
      "american graffiti\n",
      "indiana jones and the temple of doom\n",
      "the conversation\n",
      "cowboys and aliens\n",
      "indiana jones and the raiders of the lost ark\n",
      "blade runner\n",
      "the fugitive\n",
      "return of the jedi\n",
      "the widowmaker\n",
      "star wars\n",
      "star wars holiday special\n"
     ]
    },
    {
     "data": {
      "text/plain": [
       "{'francis ford coppola',\n",
       " 'george lucas',\n",
       " 'jon favreau filmography',\n",
       " 'kathryn bigelow',\n",
       " 'mike nichols',\n",
       " 'ridley scott',\n",
       " 'robert zemeckis',\n",
       " 'steven spielberg'}"
      ]
     },
     "execution_count": 12,
     "metadata": {},
     "output_type": "execute_result"
    }
   ],
   "source": [
    "directors = []\n",
    "df1 = df[df['h']=='harrison ford']\n",
    "df2 = df1[df1['r'].str.contains('film')]['t'].tolist()\n",
    "df3 = df[df['r'].str.contains('director')]\n",
    "\n",
    "for i in df2:\n",
    "    print(i)\n",
    "    x = df3[df3['t']==i]['h'].values\n",
    "    if len(x) != 0:\n",
    "        directors.append(x[0])\n",
    "set(directors)"
   ]
  },
  {
   "cell_type": "code",
   "execution_count": 14,
   "id": "2f0f48bf",
   "metadata": {
    "deletable": false,
    "nbgrader": {
     "cell_type": "code",
     "checksum": "ac4a71f632063e89560fc4127de263b1",
     "grade": false,
     "grade_id": "cell-7ea1e48135c759d5",
     "locked": false,
     "schema_version": 3,
     "solution": true,
     "task": false
    }
   },
   "outputs": [],
   "source": [
    "def made_films_with_harrison_ford(df):\n",
    "    # YOUR CODE HERE\n",
    "    directors = []\n",
    "    df1 = df[df['h']=='harrison ford']\n",
    "    df2 = df1[df1['r'].str.contains('film')]['t'].tolist()\n",
    "    df3 = df[df['r'].str.contains('director')]\n",
    "    for i in df2:\n",
    "        x = df3[df3['t']==i]['h'].values\n",
    "        if len(x) != 0:\n",
    "            directors.append(x[0])\n",
    "    return set(directors)\n",
    "    raise NotImplementedError()"
   ]
  },
  {
   "cell_type": "code",
   "execution_count": 15,
   "id": "57e619bd",
   "metadata": {
    "deletable": false,
    "editable": false,
    "nbgrader": {
     "cell_type": "code",
     "checksum": "2eb7754948b26f5dd5ea253755fa788b",
     "grade": true,
     "grade_id": "cell-f3dbc03094dcbb5b",
     "locked": true,
     "points": 0,
     "schema_version": 3,
     "solution": false,
     "task": false
    }
   },
   "outputs": [
    {
     "data": {
      "text/plain": [
       "{'francis ford coppola',\n",
       " 'george lucas',\n",
       " 'jon favreau filmography',\n",
       " 'kathryn bigelow',\n",
       " 'mike nichols',\n",
       " 'ridley scott',\n",
       " 'robert zemeckis',\n",
       " 'steven spielberg'}"
      ]
     },
     "execution_count": 15,
     "metadata": {},
     "output_type": "execute_result"
    }
   ],
   "source": [
    "directors = made_films_with_harrison_ford(df)\n",
    "assert adler32(str(sorted(directors)).encode()) == 3798415057\n",
    "directors"
   ]
  },
  {
   "cell_type": "markdown",
   "id": "2f3b3fcf",
   "metadata": {},
   "source": [
    "### Task 2. Translation models (0.0 points)"
   ]
  },
  {
   "cell_type": "markdown",
   "id": "4b1fe0e9",
   "metadata": {},
   "source": [
    "TransE (translations in the embedding space) is a method which models relationships by interpreting them as translations operating on the low-dimensional embeddings of the entities.\n",
    "\n",
    "Let us implement the model using TorchKGE — a Python module for knowledge graph embedding relying solely on Pytorch."
   ]
  },
  {
   "cell_type": "code",
   "execution_count": 16,
   "id": "d59878ae",
   "metadata": {},
   "outputs": [
    {
     "name": "stderr",
     "output_type": "stream",
     "text": [
      "\n",
      "[notice] A new release of pip is available: 23.2.1 -> 23.3.2\n",
      "[notice] To update, run: C:\\Users\\Nhat Tien Nguyen\\AppData\\Local\\Microsoft\\WindowsApps\\PythonSoftwareFoundation.Python.3.11_qbz5n2kfra8p0\\python.exe -m pip install --upgrade pip\n"
     ]
    }
   ],
   "source": [
    "!pip install torchkge==0.16.25 -q"
   ]
  },
  {
   "cell_type": "code",
   "execution_count": 17,
   "id": "ca8a243b",
   "metadata": {},
   "outputs": [
    {
     "name": "stderr",
     "output_type": "stream",
     "text": [
      "C:\\Users\\Nhat Tien Nguyen\\AppData\\Local\\Packages\\PythonSoftwareFoundation.Python.3.11_qbz5n2kfra8p0\\LocalCache\\local-packages\\Python311\\site-packages\\torchkge\\utils\\data_redundancy.py:11: TqdmWarning: IProgress not found. Please update jupyter and ipywidgets. See https://ipywidgets.readthedocs.io/en/stable/user_install.html\n",
      "  from tqdm.autonotebook import tqdm\n"
     ]
    }
   ],
   "source": [
    "import torch\n",
    "from torch import nn\n",
    "import torch.nn.functional as F\n",
    "from torchkge import KnowledgeGraph\n",
    "from torchkge.utils import Trainer\n",
    "from torchkge.evaluation import LinkPredictionEvaluator\n",
    "from torchkge.models.interfaces import TranslationModel\n",
    "from torch.nn.init import xavier_uniform_"
   ]
  },
  {
   "cell_type": "markdown",
   "id": "913de2fd",
   "metadata": {},
   "source": [
    "<img src='https://github.com/netspractice/ml-on-graphs/raw/main/assignment_knowledge_graph_embedding/kge.png' width=300>"
   ]
  },
  {
   "cell_type": "markdown",
   "id": "d24c0ca2",
   "metadata": {},
   "source": [
    "The basic idea behind the model is that the functional relation induced by the $r$-labeled edges corresponds to a translation of the embeddings, i.e. we want that $h + r \\approx t$ when ($h$, $r$, $t$) holds ($t$ should be a nearest neighbor of $h + r$), while $h + r$ should be far away from $t$ otherwise. Thereby, TransE scoring function is negative distance between $h+r$ and $t$\n",
    "\n",
    "$$f(h, r, t) = -||h + r - t||$$\n",
    "\n",
    "where $||\\cdot||$ is L1 or L2 norm. The goal of the optimization procedure is learning optimal embeddings, such that the scoring function is able to assign high scores to positive statements and low scores to statements unlikely to be true. The most common loss function is Margin Loss that can be represented as\n",
    "\n",
    "$$L = \\text{ReLU}\\left(\\gamma - f(h, r, t) + f(h', r, t')\\right)$$\n",
    "\n",
    "where $\\gamma > 0$ is a \"margin\" hyperparameter, the triplet $(h, r, t)$ is in a training set (positive) and the $(h', r, t')$ is in a set of *corrupted* (negative) triplets, that are composed of training triplets with either the head or tail replaced by a random entity (but not both at the same time)."
   ]
  },
  {
   "cell_type": "markdown",
   "id": "87808531",
   "metadata": {},
   "source": [
    "We will use TorchKGE TranslationModel as a base for TransE class, here are some auxiliary methods: \n",
    "\n",
    "* `normalize_parameters` applies `L2` normalization for training stability\n",
    "* `get_embeddings` returns the tensors representing entities and relations\n",
    "* `lp_prep_cands` gets entities and relations embeddings for link prediction training process\n",
    "* `forward` returns scores for positive triplets (`h`, `r`, `t`) and negative triplets (`nh`, `r`, `nt`)"
   ]
  },
  {
   "cell_type": "code",
   "execution_count": 18,
   "id": "7280f803",
   "metadata": {},
   "outputs": [],
   "source": [
    "class BaseTransE(TranslationModel):\n",
    "    def __init__(self, num_entities, num_relations, dim=100):\n",
    "        super(BaseTransE, self).__init__(num_entities, num_relations, dissimilarity_type='L2')\n",
    "        self.num_entities = num_entities\n",
    "        self.num_relations = num_relations\n",
    "        self.dim = dim\n",
    "        self.ent_embeddings = nn.Embedding(num_entities, self.dim)\n",
    "        self.rel_embeddings = nn.Embedding(num_relations, self.dim)\n",
    "        \n",
    "    def normalize_parameters(self):\n",
    "        self.ent_embeddings.weight.data = F.normalize(self.ent_embeddings.weight.data, p=2, dim=1)\n",
    "\n",
    "    def get_embeddings(self):\n",
    "        self.normalize_parameters()\n",
    "        return self.ent_embeddings.weight.data, self.rel_embeddings.weight.data\n",
    "        \n",
    "    def lp_prep_cands(self, h_idx, t_idx, r_idx):\n",
    "        b_size = h_idx.shape[0]\n",
    "\n",
    "        h_emb = self.ent_embeddings(h_idx)\n",
    "        t_emb = self.ent_embeddings(t_idx)\n",
    "        r_emb = self.rel_embeddings(r_idx)\n",
    "\n",
    "        candidates = self.ent_embeddings.weight.data.view(1, self.num_entities, self.dim)\n",
    "        candidates = candidates.expand(b_size, self.num_entities, self.dim)\n",
    "\n",
    "        return h_emb, t_emb, candidates, r_emb\n",
    "    \n",
    "    def forward(self, h, t, nh, nt, r):\n",
    "        return self.scoring_function(h, t, r), self.scoring_function(nh, nt, r)"
   ]
  },
  {
   "cell_type": "markdown",
   "id": "ca3ee02b",
   "metadata": {},
   "source": [
    "Write a function `scoring_function` that takes a tensor `h`, `t`, `r` with triplets of the shape (number of triplets) and returns its L2 scores. For training stability, apply L2 normalization (`F.normalize`  with `p=2`) on entities embeddings before computing the scores. Note that `h`, `t`, `r` are tensors with integer IDs of entities and relations."
   ]
  },
  {
   "cell_type": "code",
   "execution_count": 19,
   "id": "d0011822",
   "metadata": {
    "deletable": false,
    "nbgrader": {
     "cell_type": "code",
     "checksum": "b28acb89a574281b6b491dc2a892fa97",
     "grade": false,
     "grade_id": "cell-10c450a856899a4f",
     "locked": false,
     "schema_version": 3,
     "solution": true,
     "task": false
    }
   },
   "outputs": [],
   "source": [
    "class TransE(BaseTransE):\n",
    "    def scoring_function(self, h, t, r):\n",
    "        \n",
    "        # YOUR CODE HERE\n",
    "        h_emb = self.ent_embeddings(h)\n",
    "        t_emb = self.ent_embeddings(t)\n",
    "        r_emb = self.rel_embeddings(r)\n",
    "        \n",
    "        h_emb = F.normalize(h_emb, p=2)\n",
    "        t_emb = F.normalize(t_emb, p=2)\n",
    "\n",
    "        score = -torch.norm(h_emb + r_emb - t_emb, p=2, dim=-1)\n",
    "        return score\n",
    "        raise NotImplementedError()"
   ]
  },
  {
   "cell_type": "code",
   "execution_count": 20,
   "id": "fdd6e41d",
   "metadata": {
    "deletable": false,
    "editable": false,
    "nbgrader": {
     "cell_type": "code",
     "checksum": "cbdaf22fe01f7bfe4d19358cfa593ddf",
     "grade": true,
     "grade_id": "cell-89f5ccbf84380079",
     "locked": true,
     "points": 0,
     "schema_version": 3,
     "solution": false,
     "task": false
    }
   },
   "outputs": [],
   "source": [
    "model = TransE(num_entities=5, num_relations=2, dim=2)\n",
    "\n",
    "h = torch.LongTensor([1, 1, 1])\n",
    "r = torch.LongTensor([0, 1, 1])\n",
    "t = torch.LongTensor([2, 2, 3])\n",
    "\n",
    "with torch.no_grad():\n",
    "    scores = model.scoring_function(h, t, r).numpy()\n",
    "assert scores.shape == (3, ) # 3 triplets"
   ]
  },
  {
   "cell_type": "markdown",
   "id": "1460dae6",
   "metadata": {},
   "source": [
    "Complete the class `MarginLoss` so that computes the losses among scores and returns an average loss. Positive and negative scores are tensors of the shape (number of triplets)."
   ]
  },
  {
   "cell_type": "code",
   "execution_count": 21,
   "id": "6996f6b3",
   "metadata": {
    "deletable": false,
    "nbgrader": {
     "cell_type": "code",
     "checksum": "e152703e15d1c0adb58fa5f20649adcc",
     "grade": false,
     "grade_id": "cell-3fb7cb717cb420cb",
     "locked": false,
     "schema_version": 3,
     "solution": true,
     "task": false
    }
   },
   "outputs": [],
   "source": [
    "class MarginLoss(nn.Module):\n",
    "    def __init__(self, margin):\n",
    "        super().__init__()\n",
    "        self.margin = margin\n",
    "    def forward(self, positive_scores, negative_scores):\n",
    "        # YOUR CODE HERE\n",
    "        loss = torch.mean(torch.relu(self.margin - positive_scores + negative_scores))\n",
    "        return loss\n",
    "        raise NotImplementedError()"
   ]
  },
  {
   "cell_type": "code",
   "execution_count": 22,
   "id": "1c789666",
   "metadata": {
    "deletable": false,
    "editable": false,
    "nbgrader": {
     "cell_type": "code",
     "checksum": "ddad8c020d3e0fe7112475c8f7a059fd",
     "grade": true,
     "grade_id": "cell-b28b48d0354bf7be",
     "locked": true,
     "points": 0,
     "schema_version": 3,
     "solution": false,
     "task": false
    }
   },
   "outputs": [],
   "source": [
    "loss_fn = MarginLoss(margin=0.5)\n",
    "torch.manual_seed(0)\n",
    "positive_scores = torch.randn(8)\n",
    "negative_scores = torch.randn(8)\n",
    "loss = loss_fn(positive_scores, negative_scores)\n",
    "assert loss.shape == torch.Size([])\n",
    "assert round(loss.item(), 2) == 0.79"
   ]
  },
  {
   "cell_type": "markdown",
   "id": "40e66c15",
   "metadata": {},
   "source": [
    "Let us look at the WikiDataSet that presents country-specific subgraphs of Wikidata."
   ]
  },
  {
   "cell_type": "code",
   "execution_count": 23,
   "id": "39f768ae",
   "metadata": {},
   "outputs": [],
   "source": [
    "url = 'https://raw.githubusercontent.com/netspractice/network-science/main/datasets/countries_edges.tsv'\n",
    "open('countries_edges.tsv', 'wb').write(requests.get(url).content)\n",
    "url = 'https://raw.githubusercontent.com/netspractice/network-science/main/datasets/countries_entities.tsv'\n",
    "open('countries_entities.tsv', 'wb').write(requests.get(url).content)\n",
    "url = 'https://raw.githubusercontent.com/netspractice/network-science/main/datasets/countries_relations.tsv'\n",
    "open('countries_relations.tsv', 'wb').write(requests.get(url).content);"
   ]
  },
  {
   "cell_type": "code",
   "execution_count": 24,
   "id": "6430aa5b",
   "metadata": {},
   "outputs": [],
   "source": [
    "edges = pd.read_csv('countries_edges.tsv', sep='\t').values\n",
    "entity_labels = pd.read_csv('countries_entities.tsv', sep='\t', index_col=0).label.values\n",
    "relation_labels = pd.read_csv('countries_relations.tsv', sep='\t', index_col=0).label.values"
   ]
  },
  {
   "cell_type": "code",
   "execution_count": 25,
   "id": "cac5db83",
   "metadata": {},
   "outputs": [
    {
     "data": {
      "text/html": [
       "<div>\n",
       "<style scoped>\n",
       "    .dataframe tbody tr th:only-of-type {\n",
       "        vertical-align: middle;\n",
       "    }\n",
       "\n",
       "    .dataframe tbody tr th {\n",
       "        vertical-align: top;\n",
       "    }\n",
       "\n",
       "    .dataframe thead th {\n",
       "        text-align: right;\n",
       "    }\n",
       "</style>\n",
       "<table border=\"1\" class=\"dataframe\">\n",
       "  <thead>\n",
       "    <tr style=\"text-align: right;\">\n",
       "      <th></th>\n",
       "      <th>h</th>\n",
       "      <th>r</th>\n",
       "      <th>t</th>\n",
       "    </tr>\n",
       "  </thead>\n",
       "  <tbody>\n",
       "    <tr>\n",
       "      <th>0</th>\n",
       "      <td>Belgium</td>\n",
       "      <td>country</td>\n",
       "      <td>Belgium</td>\n",
       "    </tr>\n",
       "    <tr>\n",
       "      <th>1</th>\n",
       "      <td>Belgium</td>\n",
       "      <td>diplomatic relation</td>\n",
       "      <td>Luxembourg</td>\n",
       "    </tr>\n",
       "    <tr>\n",
       "      <th>2</th>\n",
       "      <td>Belgium</td>\n",
       "      <td>diplomatic relation</td>\n",
       "      <td>Italy</td>\n",
       "    </tr>\n",
       "    <tr>\n",
       "      <th>3</th>\n",
       "      <td>Belgium</td>\n",
       "      <td>diplomatic relation</td>\n",
       "      <td>Germany</td>\n",
       "    </tr>\n",
       "    <tr>\n",
       "      <th>4</th>\n",
       "      <td>Belgium</td>\n",
       "      <td>diplomatic relation</td>\n",
       "      <td>Liechtenstein</td>\n",
       "    </tr>\n",
       "  </tbody>\n",
       "</table>\n",
       "</div>"
      ],
      "text/plain": [
       "         h                    r              t\n",
       "0  Belgium              country        Belgium\n",
       "1  Belgium  diplomatic relation     Luxembourg\n",
       "2  Belgium  diplomatic relation          Italy\n",
       "3  Belgium  diplomatic relation        Germany\n",
       "4  Belgium  diplomatic relation  Liechtenstein"
      ]
     },
     "execution_count": 25,
     "metadata": {},
     "output_type": "execute_result"
    }
   ],
   "source": [
    "edges_labeled = np.stack([entity_labels[edges[:, 0]], \n",
    "                          entity_labels[edges[:, 1]], \n",
    "                          relation_labels[edges[:, 2]]], axis=1)\n",
    "\n",
    "df = pd.DataFrame(edges_labeled, columns=['h', 't', 'r'])[['h', 'r', 't']]\n",
    "df.head()"
   ]
  },
  {
   "cell_type": "markdown",
   "id": "96e03f08",
   "metadata": {},
   "source": [
    "Here are unique relations with the number of triplets"
   ]
  },
  {
   "cell_type": "code",
   "execution_count": 26,
   "id": "1d4ef2bd",
   "metadata": {},
   "outputs": [
    {
     "data": {
      "text/plain": [
       "r\n",
       "applies to jurisdiction                                        1\n",
       "basic form of government                                       3\n",
       "biological process                                             1\n",
       "capital                                                       34\n",
       "capital of                                                    25\n",
       "contains administrative territorial entity                    94\n",
       "country                                                     1339\n",
       "country of citizenship                                         5\n",
       "country of origin                                              1\n",
       "culture                                                        3\n",
       "designated as terrorist by                                     9\n",
       "different from                                               113\n",
       "diplomatic relation                                         6145\n",
       "enclave within                                                 3\n",
       "facet of                                                      13\n",
       "family                                                         1\n",
       "followed by                                                  332\n",
       "follows                                                      316\n",
       "founded by                                                    11\n",
       "has contributing factor                                        1\n",
       "has part                                                     121\n",
       "headquarters location                                          8\n",
       "history of topic                                               2\n",
       "instance of                                                   18\n",
       "located in present-day administrative territorial entity       7\n",
       "located in the administrative territorial entity             212\n",
       "located on terrain feature                                    13\n",
       "location                                                       5\n",
       "location of formation                                          1\n",
       "member of                                                     36\n",
       "merged into                                                    3\n",
       "named after                                                   14\n",
       "opposite of                                                    2\n",
       "owned by                                                       2\n",
       "part of                                                      121\n",
       "partially coincident with                                      4\n",
       "permanent duplicated item                                      2\n",
       "replaced by                                                  462\n",
       "replaces                                                     414\n",
       "said to be the same as                                         8\n",
       "separated from                                                15\n",
       "shares border with                                          1395\n",
       "significant event                                              6\n",
       "subclass of                                                    6\n",
       "territory claimed by                                          18\n",
       "territory overlaps                                             4\n",
       "time period                                                    8\n",
       "topic's main category                                          2\n",
       "twinned administrative body                                    2\n",
       "Name: r, dtype: int64"
      ]
     },
     "execution_count": 26,
     "metadata": {},
     "output_type": "execute_result"
    }
   ],
   "source": [
    "df.r.groupby(df.r).count()"
   ]
  },
  {
   "cell_type": "markdown",
   "id": "767c8128",
   "metadata": {},
   "source": [
    "Convert our dataset into a TorchKGE knowledge graph"
   ]
  },
  {
   "cell_type": "code",
   "execution_count": 27,
   "id": "e315fd6c",
   "metadata": {},
   "outputs": [],
   "source": [
    "kg = KnowledgeGraph(\n",
    "    pd.DataFrame(edges_labeled, columns=['from', 'to', 'rel']))"
   ]
  },
  {
   "cell_type": "markdown",
   "id": "7cd9ac15",
   "metadata": {},
   "source": [
    "Split the dataset into train and test set. What differs from the standard method of randomly sampling N points to make up our test set, is that our data points are two entities linked by some relationship, and we need to take care to ensure that all entities are represented in train and test sets by at least one triple.\n",
    "\n"
   ]
  },
  {
   "cell_type": "code",
   "execution_count": 28,
   "id": "86485e1b",
   "metadata": {},
   "outputs": [],
   "source": [
    "kg_train, kg_test = kg.split_kg()"
   ]
  },
  {
   "cell_type": "markdown",
   "id": "45027cae",
   "metadata": {},
   "source": [
    "Create required objects: model, loss, optimizer and trainer."
   ]
  },
  {
   "cell_type": "code",
   "execution_count": 29,
   "id": "949a0024",
   "metadata": {},
   "outputs": [],
   "source": [
    "model = TransE(kg_train.n_ent, kg_train.n_rel, dim=64)\n",
    "criterion = MarginLoss(margin=0.5)\n",
    "optimizer = torch.optim.Adam(model.parameters(), lr=0.005)\n",
    "\n",
    "trainer = Trainer(\n",
    "    model, criterion, kg_train, n_epochs=500, \n",
    "    batch_size=2048, optimizer=optimizer)"
   ]
  },
  {
   "cell_type": "markdown",
   "id": "ddd51ca4",
   "metadata": {},
   "source": [
    "During training, positive triplets are selected, negative triplets are generated, margin loss is calculated and then the gradient step is performed."
   ]
  },
  {
   "cell_type": "code",
   "execution_count": 30,
   "id": "26513e9f",
   "metadata": {},
   "outputs": [
    {
     "name": "stderr",
     "output_type": "stream",
     "text": [
      "  0%|          | 0/500 [00:00<?, ?epoch/s]"
     ]
    },
    {
     "name": "stderr",
     "output_type": "stream",
     "text": [
      "Epoch 500 | mean loss: 0.02670: 100%|██████████| 500/500 [00:56<00:00,  8.83epoch/s]\n"
     ]
    }
   ],
   "source": [
    "trainer.run()"
   ]
  },
  {
   "cell_type": "markdown",
   "id": "b27a7911",
   "metadata": {},
   "source": [
    "Let us evaluate our model on the link prediction task"
   ]
  },
  {
   "cell_type": "code",
   "execution_count": 31,
   "id": "ba2026aa",
   "metadata": {
    "deletable": false,
    "editable": false,
    "nbgrader": {
     "cell_type": "code",
     "checksum": "a299a76160d560f54404e83da29d3379",
     "grade": true,
     "grade_id": "cell-e6b0a4e916e8c503",
     "locked": true,
     "points": 0,
     "schema_version": 3,
     "solution": false,
     "task": false
    }
   },
   "outputs": [
    {
     "name": "stderr",
     "output_type": "stream",
     "text": [
      "Link prediction evaluation:   0%|          | 0/17 [00:00<?, ?batch/s]"
     ]
    },
    {
     "name": "stderr",
     "output_type": "stream",
     "text": [
      "Link prediction evaluation: 100%|██████████| 17/17 [00:01<00:00,  9.34batch/s]\n"
     ]
    }
   ],
   "source": [
    "evaluator = LinkPredictionEvaluator(model, kg_test)\n",
    "evaluator.evaluate(b_size=128)\n",
    "\n",
    "assert evaluator.hit_at_k(k=10)[0] > 0.3\n",
    "assert evaluator.mean_rank()[0] < 70\n",
    "assert evaluator.mrr()[0] > 0.1"
   ]
  },
  {
   "cell_type": "code",
   "execution_count": 32,
   "id": "ba1f7516",
   "metadata": {},
   "outputs": [
    {
     "name": "stdout",
     "output_type": "stream",
     "text": [
      "Hit@10: 0.3342\n",
      "Mean Rank: 66.0176\n",
      "MRR: 0.1392\n"
     ]
    }
   ],
   "source": [
    "print('Hit@10: {:.4f}'.format(evaluator.hit_at_k(k=10)[0]))\n",
    "print('Mean Rank: {:.4f}'.format(evaluator.mean_rank()[0]))\n",
    "print('MRR: {:.4f}'.format(evaluator.mrr()[0]))"
   ]
  },
  {
   "cell_type": "markdown",
   "id": "4c2ce4e5",
   "metadata": {},
   "source": [
    "`Hit@k` indicates how many times in average a true triple was ranked in the top-k.\n",
    "\n",
    "`Mean Rank` is a mean rank of the true entity when replacing alternatively head and tail in any fact of the dataset.\n",
    "\n",
    "`MRR` is an average of mean recovery rank for head and tail replacement."
   ]
  },
  {
   "cell_type": "markdown",
   "id": "bde3101e",
   "metadata": {},
   "source": [
    "### Task 3. Entity embeddings (2.5 points)"
   ]
  },
  {
   "cell_type": "code",
   "execution_count": 33,
   "id": "a0fc34f6",
   "metadata": {},
   "outputs": [],
   "source": [
    "from sklearn.decomposition import TruncatedSVD\n",
    "from sklearn.cluster import k_means\n",
    "import matplotlib.pyplot as plt"
   ]
  },
  {
   "cell_type": "markdown",
   "id": "5433cf80",
   "metadata": {},
   "source": [
    "Similarly to node embedding visualization, we can plot 2D embeddings of entities of knowledge graph.\n",
    "\n",
    "Write a function `ent_embeddgins` that takes the model, transforms entity embeddings into 2-dimenstional space via SVD, then finds 2 clusters via k-means and finally returns a tuple: np.array with embeddings and 0/1 labels of clusters."
   ]
  },
  {
   "cell_type": "code",
   "execution_count": 34,
   "id": "dbc9b605",
   "metadata": {
    "deletable": false,
    "nbgrader": {
     "cell_type": "code",
     "checksum": "17f1706f3d95cf3e2c3d9107ca211a69",
     "grade": false,
     "grade_id": "cell-c79123779965d790",
     "locked": false,
     "schema_version": 3,
     "solution": true,
     "task": false
    }
   },
   "outputs": [],
   "source": [
    "def ent_embeddgins(model):\n",
    "    # YOUR CODE HERE\n",
    "    weight = model.ent_embeddings.weight.data\n",
    "\n",
    "    ent_emb = TruncatedSVD(n_components=2).fit_transform(weight)\n",
    "    cluster = k_means(ent_emb, n_clusters=2)\n",
    "\n",
    "    \n",
    "    return ent_emb, cluster[1]\n",
    "    raise NotImplementedError()"
   ]
  },
  {
   "cell_type": "code",
   "execution_count": 35,
   "id": "6cbae81a",
   "metadata": {
    "deletable": false,
    "editable": false,
    "nbgrader": {
     "cell_type": "code",
     "checksum": "9b9bd3f420bac9892056ac2c1f37c0b2",
     "grade": true,
     "grade_id": "cell-c4d5a66741d71c62",
     "locked": true,
     "points": 2.5,
     "schema_version": 3,
     "solution": false,
     "task": false
    }
   },
   "outputs": [
    {
     "name": "stderr",
     "output_type": "stream",
     "text": [
      "C:\\Users\\Nhat Tien Nguyen\\AppData\\Local\\Packages\\PythonSoftwareFoundation.Python.3.11_qbz5n2kfra8p0\\LocalCache\\local-packages\\Python311\\site-packages\\sklearn\\cluster\\_kmeans.py:1416: FutureWarning: The default value of `n_init` will change from 10 to 'auto' in 1.4. Set the value of `n_init` explicitly to suppress the warning\n",
      "  super()._check_params_vs_input(X, default_n_init=10)\n"
     ]
    }
   ],
   "source": [
    "ent_emb, labels = ent_embeddgins(model)\n",
    "assert ent_emb.shape == (1810, 2)\n",
    "assert labels.shape == (1810,)\n",
    "n_label1 = (labels == 1).sum()\n",
    "n_label0 = (labels == 0).sum()\n",
    "assert 0.14 < min(n_label1, n_label0) / max(n_label1, n_label0) < 0.18"
   ]
  },
  {
   "cell_type": "code",
   "execution_count": 36,
   "id": "7fe88cd5",
   "metadata": {},
   "outputs": [
    {
     "data": {
      "image/png": "[encoded data removed]",
      "text/plain": [
       "<Figure size 800x500 with 1 Axes>"
      ]
     },
     "metadata": {},
     "output_type": "display_data"
    }
   ],
   "source": [
    "plt.figure(figsize=(8, 5))\n",
    "colors = np.array(plt.cm.tab10.colors)\n",
    "plt.scatter(ent_emb[:, 0], ent_emb[:, 1], s=10, c=colors[labels])\n",
    "plt.title('Entity embeddings')\n",
    "plt.show()"
   ]
  },
  {
   "cell_type": "markdown",
   "id": "595b2ba3",
   "metadata": {},
   "source": [
    "Let us look at some randomly chosen entities from each cluster. Here we use `kg.ent2ix` dictionary to get labels of entities."
   ]
  },
  {
   "cell_type": "code",
   "execution_count": 37,
   "id": "6b09c78c",
   "metadata": {},
   "outputs": [
    {
     "name": "stdout",
     "output_type": "stream",
     "text": [
      "First cluster:  Kingdom of Luang Phrabang, Free State of Waldeck-Pyrmont, Principality of Hungary, Sultanate of Serdang, Kingdom of Naples, Chen Han, Undivided Assam, Kerajaan Sebayak Sarinembah, Khorezm People's Soviet Republic, Salamis\n",
      "\n",
      "Second cluster:  Gabon, Mali, Germany, Slovakia, Russian Soviet Federative Socialist Republic, Togo, France, Jamaica, Georgia, Haiti\n"
     ]
    }
   ],
   "source": [
    "ent_labels = np.array(list(kg.ent2ix.keys()))\n",
    "print('First cluster: ', ', '.join(\n",
    "    np.random.permutation(ent_labels[labels == 0])[:10]))\n",
    "print()\n",
    "print('Second cluster: ', ', '.join(\n",
    "    np.random.permutation(ent_labels[labels == 1])[:10]))"
   ]
  },
  {
   "cell_type": "markdown",
   "id": "b3f72802",
   "metadata": {},
   "source": [
    "### Task 4. Nearest neighbors of entities (2.5 points)"
   ]
  },
  {
   "cell_type": "code",
   "execution_count": 38,
   "id": "669adc04",
   "metadata": {},
   "outputs": [],
   "source": [
    "from sklearn.neighbors import NearestNeighbors"
   ]
  },
  {
   "cell_type": "markdown",
   "id": "e07bdbf6",
   "metadata": {},
   "source": [
    "Let us find a nearest neighbors of Belgium using embedding space.\n",
    "\n",
    "Write a function `similar_countries` that takes a name of country, graph and model and returns a list with names of nearest countries. Use `model.get_embeddings()`."
   ]
  },
  {
   "cell_type": "code",
   "execution_count": 39,
   "id": "91d490c5",
   "metadata": {
    "deletable": false,
    "nbgrader": {
     "cell_type": "code",
     "checksum": "2914a4ae39cc291785e97e21b00d67ae",
     "grade": false,
     "grade_id": "cell-fe878bfa8dc0c817",
     "locked": false,
     "schema_version": 3,
     "solution": true,
     "task": false
    }
   },
   "outputs": [],
   "source": [
    "def similar_countries(name, kg, model):\n",
    "    # YOUR CODE HERE\n",
    "    ent_embeddings, rel_embeddings = model.get_embeddings()\n",
    "\n",
    "    index = kg.ent2ix[name]\n",
    "    country_emb = ent_embeddings[index].reshape(1,-1)\n",
    "\n",
    "\n",
    "    #find nearest neighbors\n",
    "    nearest = NearestNeighbors(n_neighbors=5, metric='euclidean').fit(ent_embeddings)\n",
    "    neighbors, indices = nearest.kneighbors(country_emb)\n",
    "\n",
    "    names = []\n",
    "    #print(kg.ent2ix.keys())\n",
    "    for i in indices[0]:\n",
    "        for country in kg.ent2ix.keys():\n",
    "            if kg.ent2ix[country] == i:\n",
    "                names.append(country)\n",
    "\n",
    "    return names\n",
    "    raise NotImplementedError()"
   ]
  },
  {
   "cell_type": "code",
   "execution_count": 40,
   "id": "dee374e6",
   "metadata": {
    "deletable": false,
    "editable": false,
    "nbgrader": {
     "cell_type": "code",
     "checksum": "e38fd671f48cd1c4614f6adda30bd36e",
     "grade": true,
     "grade_id": "cell-0b8b02590a965cc3",
     "locked": true,
     "points": 2.5,
     "schema_version": 3,
     "solution": false,
     "task": false
    }
   },
   "outputs": [
    {
     "data": {
      "text/plain": [
       "['Belgium',\n",
       " 'Netherlands',\n",
       " 'Luxembourg',\n",
       " 'France',\n",
       " 'Kingdom of the Netherlands']"
      ]
     },
     "execution_count": 40,
     "metadata": {},
     "output_type": "execute_result"
    }
   ],
   "source": [
    "similar = similar_countries('Belgium', kg, model)\n",
    "assert 'Netherlands' in similar\n",
    "similar"
   ]
  },
  {
   "cell_type": "markdown",
   "id": "302bace9",
   "metadata": {},
   "source": [
    "### Task 5. Relation prediction (2.5 points)"
   ]
  },
  {
   "cell_type": "markdown",
   "id": "8bcd2c29",
   "metadata": {},
   "source": [
    "Let us consider these facts:\n",
    "1. Belgium shares border with France\n",
    "2. Belgium shares border with Switzerland\n",
    "3. Belgium shares border with Nigeria\n",
    "\n",
    "Only the fact 1 is truth, but it seems that the fact 2 is more likely than 3."
   ]
  },
  {
   "cell_type": "code",
   "execution_count": 41,
   "id": "5ed79917",
   "metadata": {},
   "outputs": [
    {
     "data": {
      "text/html": [
       "<div>\n",
       "<style scoped>\n",
       "    .dataframe tbody tr th:only-of-type {\n",
       "        vertical-align: middle;\n",
       "    }\n",
       "\n",
       "    .dataframe tbody tr th {\n",
       "        vertical-align: top;\n",
       "    }\n",
       "\n",
       "    .dataframe thead th {\n",
       "        text-align: right;\n",
       "    }\n",
       "</style>\n",
       "<table border=\"1\" class=\"dataframe\">\n",
       "  <thead>\n",
       "    <tr style=\"text-align: right;\">\n",
       "      <th></th>\n",
       "      <th>h</th>\n",
       "      <th>r</th>\n",
       "      <th>t</th>\n",
       "    </tr>\n",
       "  </thead>\n",
       "  <tbody>\n",
       "    <tr>\n",
       "      <th>8</th>\n",
       "      <td>Belgium</td>\n",
       "      <td>diplomatic relation</td>\n",
       "      <td>France</td>\n",
       "    </tr>\n",
       "    <tr>\n",
       "      <th>32</th>\n",
       "      <td>Belgium</td>\n",
       "      <td>shares border with</td>\n",
       "      <td>France</td>\n",
       "    </tr>\n",
       "  </tbody>\n",
       "</table>\n",
       "</div>"
      ],
      "text/plain": [
       "          h                    r       t\n",
       "8   Belgium  diplomatic relation  France\n",
       "32  Belgium   shares border with  France"
      ]
     },
     "execution_count": 41,
     "metadata": {},
     "output_type": "execute_result"
    }
   ],
   "source": [
    "df[(df.h == 'Belgium') & (df.t == 'France')]"
   ]
  },
  {
   "cell_type": "code",
   "execution_count": 42,
   "id": "52a2002d",
   "metadata": {},
   "outputs": [
    {
     "data": {
      "text/html": [
       "<div>\n",
       "<style scoped>\n",
       "    .dataframe tbody tr th:only-of-type {\n",
       "        vertical-align: middle;\n",
       "    }\n",
       "\n",
       "    .dataframe tbody tr th {\n",
       "        vertical-align: top;\n",
       "    }\n",
       "\n",
       "    .dataframe thead th {\n",
       "        text-align: right;\n",
       "    }\n",
       "</style>\n",
       "<table border=\"1\" class=\"dataframe\">\n",
       "  <thead>\n",
       "    <tr style=\"text-align: right;\">\n",
       "      <th></th>\n",
       "      <th>h</th>\n",
       "      <th>r</th>\n",
       "      <th>t</th>\n",
       "    </tr>\n",
       "  </thead>\n",
       "  <tbody>\n",
       "  </tbody>\n",
       "</table>\n",
       "</div>"
      ],
      "text/plain": [
       "Empty DataFrame\n",
       "Columns: [h, r, t]\n",
       "Index: []"
      ]
     },
     "execution_count": 42,
     "metadata": {},
     "output_type": "execute_result"
    }
   ],
   "source": [
    "df[(df.h == 'Belgium') & (df.t == 'Switzerland')]"
   ]
  },
  {
   "cell_type": "code",
   "execution_count": 43,
   "id": "5c5a6e01",
   "metadata": {},
   "outputs": [
    {
     "data": {
      "text/html": [
       "<div>\n",
       "<style scoped>\n",
       "    .dataframe tbody tr th:only-of-type {\n",
       "        vertical-align: middle;\n",
       "    }\n",
       "\n",
       "    .dataframe tbody tr th {\n",
       "        vertical-align: top;\n",
       "    }\n",
       "\n",
       "    .dataframe thead th {\n",
       "        text-align: right;\n",
       "    }\n",
       "</style>\n",
       "<table border=\"1\" class=\"dataframe\">\n",
       "  <thead>\n",
       "    <tr style=\"text-align: right;\">\n",
       "      <th></th>\n",
       "      <th>h</th>\n",
       "      <th>r</th>\n",
       "      <th>t</th>\n",
       "    </tr>\n",
       "  </thead>\n",
       "  <tbody>\n",
       "  </tbody>\n",
       "</table>\n",
       "</div>"
      ],
      "text/plain": [
       "Empty DataFrame\n",
       "Columns: [h, r, t]\n",
       "Index: []"
      ]
     },
     "execution_count": 43,
     "metadata": {},
     "output_type": "execute_result"
    }
   ],
   "source": [
    "df[(df.h == 'Belgium') & (df.t == 'Nigeria')]"
   ]
  },
  {
   "cell_type": "markdown",
   "id": "e2e80719",
   "metadata": {},
   "source": [
    "Now we can compare these facts using scoring function of TransE model to check our prior knowledge.\n",
    "\n",
    "Write a function `belgium_facts` that takes a model, a graph and returns 3 values of scoring function for each fact. Use `model.scoring_function` with `torch.no_grad()`."
   ]
  },
  {
   "cell_type": "code",
   "execution_count": 56,
   "id": "6e484ea3",
   "metadata": {
    "deletable": false,
    "nbgrader": {
     "cell_type": "code",
     "checksum": "d6b24f412af3938aadfd82f350222dcb",
     "grade": false,
     "grade_id": "cell-5feee5e866b961d0",
     "locked": false,
     "schema_version": 3,
     "solution": true,
     "task": false
    }
   },
   "outputs": [],
   "source": [
    "def belgium_facts(model, kg):\n",
    "    # YOUR CODE HERE\n",
    "    with torch.no_grad():\n",
    "        countries = ['Belgium','France','Switzerland','Nigeria']\n",
    "        rel = 'shares border with'\n",
    "\n",
    "        countries = [kg.ent2ix[x] for x in countries]  # id of countries and relation\n",
    "        rel = kg.rel2ix[rel]\n",
    "\n",
    "\n",
    "        scores = []\n",
    "        for i in range(1,len(countries)):\n",
    "            score = model.scoring_function(torch.tensor([countries[0]]),torch.tensor([countries[i]]),torch.tensor([rel]))\n",
    "            scores.append(score)\n",
    "        return scores\n",
    "\n",
    "    raise NotImplementedError()"
   ]
  },
  {
   "cell_type": "code",
   "execution_count": 57,
   "id": "0c73a43b",
   "metadata": {
    "deletable": false,
    "editable": false,
    "nbgrader": {
     "cell_type": "code",
     "checksum": "2f00080d176375341ae1f4e7095a6b19",
     "grade": true,
     "grade_id": "cell-a6b6e4e88ba6569f",
     "locked": true,
     "points": 2.5,
     "schema_version": 3,
     "solution": false,
     "task": false
    }
   },
   "outputs": [
    {
     "data": {
      "text/plain": [
       "[tensor([-0.5719]), tensor([-0.6955]), tensor([-0.9578])]"
      ]
     },
     "execution_count": 57,
     "metadata": {},
     "output_type": "execute_result"
    }
   ],
   "source": [
    "scores = belgium_facts(model, kg)\n",
    "assert scores[0] > scores[1] > scores[2]\n",
    "scores"
   ]
  },
  {
   "cell_type": "markdown",
   "id": "2214fc87",
   "metadata": {},
   "source": [
    "### Task 6. Tail prediction (2.5 points)"
   ]
  },
  {
   "cell_type": "code",
   "execution_count": 58,
   "id": "1feb4bc5",
   "metadata": {},
   "outputs": [],
   "source": [
    "from sklearn.neighbors import NearestNeighbors"
   ]
  },
  {
   "cell_type": "markdown",
   "id": "eb36ce98",
   "metadata": {},
   "source": [
    "Recall that the main idea of TransE is to learn $h + r \\approx t$, so let us find the closest tails for the head + relation pair.\n",
    "\n",
    "Write a function `soviet_tail` that takes a model, graph and finds 5 nearest neighbors for the pair $h$ is \"Soviet Union\" and $r$ is \"founded by\"."
   ]
  },
  {
   "cell_type": "code",
   "execution_count": 79,
   "id": "c6f4633a",
   "metadata": {
    "deletable": false,
    "nbgrader": {
     "cell_type": "code",
     "checksum": "803dd88ce8a03a13810ab252b70a682e",
     "grade": false,
     "grade_id": "cell-dbc103d80a938c68",
     "locked": false,
     "schema_version": 3,
     "solution": true,
     "task": false
    }
   },
   "outputs": [],
   "source": [
    "def soviet_tail(model, kg):\n",
    "    # YOUR CODE \n",
    "    name = \"Soviet Union\"\n",
    "    rel = \"founded by\"\n",
    "    \n",
    "\n",
    "    country = kg.ent2ix[name]\n",
    "    r = kg.rel2ix[rel]\n",
    "\n",
    "    ent_emb, rel_emb = model.get_embeddings()\n",
    "\n",
    "    name_emb = ent_emb[country].reshape(1,-1)\n",
    "    r_emb = rel_emb[r].reshape(1,-1)\n",
    "\n",
    "    #find nearest neighbors\n",
    "    nearest = NearestNeighbors(n_neighbors=6, metric='euclidean').fit(ent_emb)\n",
    "    neighbors, indices = nearest.kneighbors(name_emb + r_emb)\n",
    "\n",
    "    tails = []\n",
    "    #print(kg.ent2ix.keys())\n",
    "    for i in indices[0]:\n",
    "        for country in kg.ent2ix.keys():\n",
    "            if kg.ent2ix[country] == i:\n",
    "                tails.append(country)\n",
    "\n",
    "    return [x for x in tails if x != 'Soviet Union']\n",
    "    raise NotImplementedError()"
   ]
  },
  {
   "cell_type": "code",
   "execution_count": 80,
   "id": "d8d5ab86",
   "metadata": {
    "deletable": false,
    "editable": false,
    "nbgrader": {
     "cell_type": "code",
     "checksum": "1249fc19b4c2a82f809dd83121103d3c",
     "grade": true,
     "grade_id": "cell-ba34f9e5a695e8ca",
     "locked": true,
     "points": 2.5,
     "schema_version": 3,
     "solution": false,
     "task": false
    }
   },
   "outputs": [
    {
     "data": {
      "text/plain": [
       "['Russian Empire',\n",
       " 'Russian Soviet Federative Socialist Republic',\n",
       " 'Russian Republic',\n",
       " 'Transcaucasian Socialist Federative Soviet Republic',\n",
       " 'Austria-Hungary']"
      ]
     },
     "execution_count": 80,
     "metadata": {},
     "output_type": "execute_result"
    }
   ],
   "source": [
    "tails = soviet_tail(model, kg)\n",
    "assert 'Russian Soviet Federative Socialist Republic' in tails\n",
    "tails"
   ]
  },
  {
   "cell_type": "code",
   "execution_count": null,
   "id": "1b59dd3a",
   "metadata": {},
   "outputs": [],
   "source": []
  }
 ],
 "metadata": {
  "kernelspec": {
   "display_name": "Python 3",
   "language": "python",
   "name": "python3"
  },
  "language_info": {
   "codemirror_mode": {
    "name": "ipython",
    "version": 3
   },
   "file_extension": ".py",
   "mimetype": "text/x-python",
   "name": "python",
   "nbconvert_exporter": "python",
   "pygments_lexer": "ipython3",
   "version": "3.11.7"
  }
 },
 "nbformat": 4,
 "nbformat_minor": 5
}
